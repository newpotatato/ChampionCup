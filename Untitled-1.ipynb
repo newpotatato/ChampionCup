{
 "cells": [
  {
   "cell_type": "code",
   "execution_count": 1,
   "metadata": {},
   "outputs": [],
   "source": [
    "import os"
   ]
  },
  {
   "cell_type": "code",
   "execution_count": 6,
   "metadata": {},
   "outputs": [],
   "source": [
    "from os import walk\n",
    "\n",
    "filenames = next(walk(r'C:\\Users\\kiril\\Downloads'), (None, None, []))[2]  # [] if no file"
   ]
  },
  {
   "cell_type": "code",
   "execution_count": 7,
   "metadata": {},
   "outputs": [
    {
     "data": {
      "text/plain": [
       "['desktop.ini',\n",
       " \"Ian Gudfellou, Ioshua Bendzhio, Aaron Kurvill'_Glubokoe obuchenie.pdf\",\n",
       " 'MNIST_test.ipynb',\n",
       " 'Road (6).ipynb',\n",
       " 'Yandex.exe',\n",
       " 'Черников защиита.pptx',\n",
       " 'Эссе_Гудкова.docx']"
      ]
     },
     "execution_count": 7,
     "metadata": {},
     "output_type": "execute_result"
    }
   ],
   "source": [
    "filenames"
   ]
  },
  {
   "cell_type": "code",
   "execution_count": 10,
   "metadata": {},
   "outputs": [
    {
     "name": "stdout",
     "output_type": "stream",
     "text": [
      "C:\\Users\\kiril\\Downloads\\resr\n"
     ]
    }
   ],
   "source": [
    "rootdir = r'C:\\Users\\kiril\\Downloads'\n",
    "for file in os.listdir(rootdir):\n",
    "    d = os.path.join(rootdir, file)\n",
    "    if os.path.isdir(d):\n",
    "        print(d)"
   ]
  },
  {
   "cell_type": "code",
   "execution_count": 9,
   "metadata": {},
   "outputs": [
    {
     "data": {
      "text/plain": [
       "['bin',\n",
       " 'chrome_100_percent.pak',\n",
       " 'chrome_200_percent.pak',\n",
       " 'Code.exe',\n",
       " 'Code.VisualElementsManifest.xml',\n",
       " 'd3dcompiler_47.dll',\n",
       " 'ffmpeg.dll',\n",
       " 'icudtl.dat',\n",
       " 'libEGL.dll',\n",
       " 'libGLESv2.dll',\n",
       " 'LICENSES.chromium.html',\n",
       " 'locales',\n",
       " 'policies',\n",
       " 'resources',\n",
       " 'resources.pak',\n",
       " 'snapshot_blob.bin',\n",
       " 'tools',\n",
       " 'unins000.dat',\n",
       " 'unins000.exe',\n",
       " 'unins000.msg',\n",
       " 'v8_context_snapshot.bin',\n",
       " 'vk_swiftshader.dll',\n",
       " 'vk_swiftshader_icd.json',\n",
       " 'vulkan-1.dll']"
      ]
     },
     "execution_count": 9,
     "metadata": {},
     "output_type": "execute_result"
    }
   ],
   "source": [
    "[f for f in os.listdir('.') if os.path.isdir(r'C:\\Users\\kiril\\Downloads')]"
   ]
  }
 ],
 "metadata": {
  "kernelspec": {
   "display_name": "Python 3",
   "language": "python",
   "name": "python3"
  },
  "language_info": {
   "codemirror_mode": {
    "name": "ipython",
    "version": 3
   },
   "file_extension": ".py",
   "mimetype": "text/x-python",
   "name": "python",
   "nbconvert_exporter": "python",
   "pygments_lexer": "ipython3",
   "version": "3.11.5"
  },
  "orig_nbformat": 4
 },
 "nbformat": 4,
 "nbformat_minor": 2
}
